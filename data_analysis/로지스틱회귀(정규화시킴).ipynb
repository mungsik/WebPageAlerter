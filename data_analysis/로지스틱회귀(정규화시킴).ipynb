{
 "cells": [
  {
   "cell_type": "code",
   "execution_count": 2,
   "id": "c8223314",
   "metadata": {},
   "outputs": [
    {
     "data": {
      "text/plain": [
       "<bound method NDFrame.head of        2.82  000210  2019-08-20 2019-08-20.1  1\n",
       "0     29.60  264660  2019-08-20   2019-08-20  1\n",
       "1      1.50  241790  2019-08-20   2019-08-20  1\n",
       "2      4.03  214450  2019-08-20   2019-08-20  0\n",
       "3      0.00   17940  2019-08-21   2019-08-21  1\n",
       "4      3.78  143540  2019-08-21   2019-08-21  1\n",
       "...     ...     ...         ...          ... ..\n",
       "4360  -1.62   78000  2022-08-18   2022-08-18  1\n",
       "4361   0.00   32860  2022-08-18   2022-08-18  1\n",
       "4362  -0.68  100090  2022-08-19   2022-08-19  1\n",
       "4363  -0.49   68270  2022-08-19   2022-08-19  1\n",
       "4364   1.22   86980  2022-08-19   2022-08-19  1\n",
       "\n",
       "[4365 rows x 5 columns]>"
      ]
     },
     "execution_count": 2,
     "metadata": {},
     "output_type": "execute_result"
    }
   ],
   "source": [
    "import pandas as pd\n",
    "df = pd.read_csv(\"datas/union_datas.csv\")\n",
    "df.head"
   ]
  },
  {
   "cell_type": "code",
   "execution_count": 3,
   "id": "2401f7e9",
   "metadata": {},
   "outputs": [
    {
     "data": {
      "text/html": [
       "<div>\n",
       "<style scoped>\n",
       "    .dataframe tbody tr th:only-of-type {\n",
       "        vertical-align: middle;\n",
       "    }\n",
       "\n",
       "    .dataframe tbody tr th {\n",
       "        vertical-align: top;\n",
       "    }\n",
       "\n",
       "    .dataframe thead th {\n",
       "        text-align: right;\n",
       "    }\n",
       "</style>\n",
       "<table border=\"1\" class=\"dataframe\">\n",
       "  <thead>\n",
       "    <tr style=\"text-align: right;\">\n",
       "      <th></th>\n",
       "      <th>fluctuation</th>\n",
       "      <th>ticker</th>\n",
       "      <th>reception_date</th>\n",
       "      <th>registration_date</th>\n",
       "      <th>check_contract</th>\n",
       "    </tr>\n",
       "  </thead>\n",
       "  <tbody>\n",
       "    <tr>\n",
       "      <th>0</th>\n",
       "      <td>29.60</td>\n",
       "      <td>264660</td>\n",
       "      <td>2019-08-20</td>\n",
       "      <td>2019-08-20</td>\n",
       "      <td>1</td>\n",
       "    </tr>\n",
       "    <tr>\n",
       "      <th>1</th>\n",
       "      <td>1.50</td>\n",
       "      <td>241790</td>\n",
       "      <td>2019-08-20</td>\n",
       "      <td>2019-08-20</td>\n",
       "      <td>1</td>\n",
       "    </tr>\n",
       "    <tr>\n",
       "      <th>2</th>\n",
       "      <td>4.03</td>\n",
       "      <td>214450</td>\n",
       "      <td>2019-08-20</td>\n",
       "      <td>2019-08-20</td>\n",
       "      <td>0</td>\n",
       "    </tr>\n",
       "    <tr>\n",
       "      <th>3</th>\n",
       "      <td>0.00</td>\n",
       "      <td>17940</td>\n",
       "      <td>2019-08-21</td>\n",
       "      <td>2019-08-21</td>\n",
       "      <td>1</td>\n",
       "    </tr>\n",
       "    <tr>\n",
       "      <th>4</th>\n",
       "      <td>3.78</td>\n",
       "      <td>143540</td>\n",
       "      <td>2019-08-21</td>\n",
       "      <td>2019-08-21</td>\n",
       "      <td>1</td>\n",
       "    </tr>\n",
       "  </tbody>\n",
       "</table>\n",
       "</div>"
      ],
      "text/plain": [
       "   fluctuation  ticker reception_date registration_date  check_contract\n",
       "0        29.60  264660     2019-08-20        2019-08-20               1\n",
       "1         1.50  241790     2019-08-20        2019-08-20               1\n",
       "2         4.03  214450     2019-08-20        2019-08-20               0\n",
       "3         0.00   17940     2019-08-21        2019-08-21               1\n",
       "4         3.78  143540     2019-08-21        2019-08-21               1"
      ]
     },
     "execution_count": 3,
     "metadata": {},
     "output_type": "execute_result"
    }
   ],
   "source": [
    "df.columns =[\"fluctuation\", \"ticker\", \"reception_date\", \"registration_date\", \"check_contract\"]\n",
    "df.head()"
   ]
  },
  {
   "cell_type": "code",
   "execution_count": 10,
   "id": "fedbc8b6",
   "metadata": {},
   "outputs": [
    {
     "data": {
      "text/html": [
       "<div>\n",
       "<style scoped>\n",
       "    .dataframe tbody tr th:only-of-type {\n",
       "        vertical-align: middle;\n",
       "    }\n",
       "\n",
       "    .dataframe tbody tr th {\n",
       "        vertical-align: top;\n",
       "    }\n",
       "\n",
       "    .dataframe thead th {\n",
       "        text-align: right;\n",
       "    }\n",
       "</style>\n",
       "<table border=\"1\" class=\"dataframe\">\n",
       "  <thead>\n",
       "    <tr style=\"text-align: right;\">\n",
       "      <th></th>\n",
       "      <th>fluctuation</th>\n",
       "      <th>ticker</th>\n",
       "      <th>reception_date</th>\n",
       "      <th>registration_date</th>\n",
       "      <th>check_contract</th>\n",
       "      <th>new_fluctuation</th>\n",
       "    </tr>\n",
       "  </thead>\n",
       "  <tbody>\n",
       "    <tr>\n",
       "      <th>0</th>\n",
       "      <td>29.60</td>\n",
       "      <td>264660</td>\n",
       "      <td>2019-08-20</td>\n",
       "      <td>2019-08-20</td>\n",
       "      <td>1</td>\n",
       "      <td>1</td>\n",
       "    </tr>\n",
       "    <tr>\n",
       "      <th>1</th>\n",
       "      <td>1.50</td>\n",
       "      <td>241790</td>\n",
       "      <td>2019-08-20</td>\n",
       "      <td>2019-08-20</td>\n",
       "      <td>1</td>\n",
       "      <td>1</td>\n",
       "    </tr>\n",
       "    <tr>\n",
       "      <th>2</th>\n",
       "      <td>4.03</td>\n",
       "      <td>214450</td>\n",
       "      <td>2019-08-20</td>\n",
       "      <td>2019-08-20</td>\n",
       "      <td>0</td>\n",
       "      <td>1</td>\n",
       "    </tr>\n",
       "    <tr>\n",
       "      <th>3</th>\n",
       "      <td>0.00</td>\n",
       "      <td>17940</td>\n",
       "      <td>2019-08-21</td>\n",
       "      <td>2019-08-21</td>\n",
       "      <td>1</td>\n",
       "      <td>1</td>\n",
       "    </tr>\n",
       "    <tr>\n",
       "      <th>4</th>\n",
       "      <td>3.78</td>\n",
       "      <td>143540</td>\n",
       "      <td>2019-08-21</td>\n",
       "      <td>2019-08-21</td>\n",
       "      <td>1</td>\n",
       "      <td>1</td>\n",
       "    </tr>\n",
       "  </tbody>\n",
       "</table>\n",
       "</div>"
      ],
      "text/plain": [
       "   fluctuation  ticker reception_date registration_date  check_contract  \\\n",
       "0        29.60  264660     2019-08-20        2019-08-20               1   \n",
       "1         1.50  241790     2019-08-20        2019-08-20               1   \n",
       "2         4.03  214450     2019-08-20        2019-08-20               0   \n",
       "3         0.00   17940     2019-08-21        2019-08-21               1   \n",
       "4         3.78  143540     2019-08-21        2019-08-21               1   \n",
       "\n",
       "  new_fluctuation  \n",
       "0               1  \n",
       "1               1  \n",
       "2               1  \n",
       "3               1  \n",
       "4               1  "
      ]
     },
     "execution_count": 10,
     "metadata": {},
     "output_type": "execute_result"
    }
   ],
   "source": [
    "## fluctuation 0을 기준으로 1, 0으로 new_fluctuation 구분하기\n",
    "\n",
    "for i in range(len(df)):\n",
    "    if df.loc[i, 'fluctuation'] >= 0:\n",
    "        df.loc[i, 'new_fluctuation'] = 1\n",
    "    else:\n",
    "        df.loc[i, 'new_fluctuation'] = 0\n",
    "\n",
    "df.head()"
   ]
  },
  {
   "cell_type": "code",
   "execution_count": 12,
   "id": "18f3846a",
   "metadata": {},
   "outputs": [
    {
     "name": "stdout",
     "output_type": "stream",
     "text": [
      "<class 'pandas.core.frame.DataFrame'>\n",
      "RangeIndex: 4365 entries, 0 to 4364\n",
      "Data columns (total 6 columns):\n",
      " #   Column             Non-Null Count  Dtype  \n",
      "---  ------             --------------  -----  \n",
      " 0   fluctuation        4365 non-null   float64\n",
      " 1   ticker             4365 non-null   int64  \n",
      " 2   reception_date     4365 non-null   object \n",
      " 3   registration_date  4365 non-null   object \n",
      " 4   check_contract     4365 non-null   int64  \n",
      " 5   new_fluctuation    4365 non-null   object \n",
      "dtypes: float64(1), int64(2), object(3)\n",
      "memory usage: 204.7+ KB\n"
     ]
    }
   ],
   "source": [
    "df.info()"
   ]
  },
  {
   "cell_type": "code",
   "execution_count": 13,
   "id": "d9592575",
   "metadata": {},
   "outputs": [
    {
     "data": {
      "text/html": [
       "<div>\n",
       "<style scoped>\n",
       "    .dataframe tbody tr th:only-of-type {\n",
       "        vertical-align: middle;\n",
       "    }\n",
       "\n",
       "    .dataframe tbody tr th {\n",
       "        vertical-align: top;\n",
       "    }\n",
       "\n",
       "    .dataframe thead th {\n",
       "        text-align: right;\n",
       "    }\n",
       "</style>\n",
       "<table border=\"1\" class=\"dataframe\">\n",
       "  <thead>\n",
       "    <tr style=\"text-align: right;\">\n",
       "      <th></th>\n",
       "      <th>fluctuation</th>\n",
       "      <th>ticker</th>\n",
       "      <th>reception_date</th>\n",
       "      <th>registration_date</th>\n",
       "      <th>check_contract</th>\n",
       "      <th>new_fluctuation</th>\n",
       "    </tr>\n",
       "  </thead>\n",
       "  <tbody>\n",
       "    <tr>\n",
       "      <th>0</th>\n",
       "      <td>29.60</td>\n",
       "      <td>264660</td>\n",
       "      <td>2019-08-20</td>\n",
       "      <td>2019-08-20</td>\n",
       "      <td>1</td>\n",
       "      <td>1</td>\n",
       "    </tr>\n",
       "    <tr>\n",
       "      <th>1</th>\n",
       "      <td>1.50</td>\n",
       "      <td>241790</td>\n",
       "      <td>2019-08-20</td>\n",
       "      <td>2019-08-20</td>\n",
       "      <td>1</td>\n",
       "      <td>1</td>\n",
       "    </tr>\n",
       "    <tr>\n",
       "      <th>2</th>\n",
       "      <td>4.03</td>\n",
       "      <td>214450</td>\n",
       "      <td>2019-08-20</td>\n",
       "      <td>2019-08-20</td>\n",
       "      <td>0</td>\n",
       "      <td>1</td>\n",
       "    </tr>\n",
       "    <tr>\n",
       "      <th>3</th>\n",
       "      <td>0.00</td>\n",
       "      <td>17940</td>\n",
       "      <td>2019-08-21</td>\n",
       "      <td>2019-08-21</td>\n",
       "      <td>1</td>\n",
       "      <td>1</td>\n",
       "    </tr>\n",
       "    <tr>\n",
       "      <th>4</th>\n",
       "      <td>3.78</td>\n",
       "      <td>143540</td>\n",
       "      <td>2019-08-21</td>\n",
       "      <td>2019-08-21</td>\n",
       "      <td>1</td>\n",
       "      <td>1</td>\n",
       "    </tr>\n",
       "    <tr>\n",
       "      <th>...</th>\n",
       "      <td>...</td>\n",
       "      <td>...</td>\n",
       "      <td>...</td>\n",
       "      <td>...</td>\n",
       "      <td>...</td>\n",
       "      <td>...</td>\n",
       "    </tr>\n",
       "    <tr>\n",
       "      <th>4360</th>\n",
       "      <td>-1.62</td>\n",
       "      <td>78000</td>\n",
       "      <td>2022-08-18</td>\n",
       "      <td>2022-08-18</td>\n",
       "      <td>1</td>\n",
       "      <td>0</td>\n",
       "    </tr>\n",
       "    <tr>\n",
       "      <th>4361</th>\n",
       "      <td>0.00</td>\n",
       "      <td>32860</td>\n",
       "      <td>2022-08-18</td>\n",
       "      <td>2022-08-18</td>\n",
       "      <td>1</td>\n",
       "      <td>1</td>\n",
       "    </tr>\n",
       "    <tr>\n",
       "      <th>4362</th>\n",
       "      <td>-0.68</td>\n",
       "      <td>100090</td>\n",
       "      <td>2022-08-19</td>\n",
       "      <td>2022-08-19</td>\n",
       "      <td>1</td>\n",
       "      <td>0</td>\n",
       "    </tr>\n",
       "    <tr>\n",
       "      <th>4363</th>\n",
       "      <td>-0.49</td>\n",
       "      <td>68270</td>\n",
       "      <td>2022-08-19</td>\n",
       "      <td>2022-08-19</td>\n",
       "      <td>1</td>\n",
       "      <td>0</td>\n",
       "    </tr>\n",
       "    <tr>\n",
       "      <th>4364</th>\n",
       "      <td>1.22</td>\n",
       "      <td>86980</td>\n",
       "      <td>2022-08-19</td>\n",
       "      <td>2022-08-19</td>\n",
       "      <td>1</td>\n",
       "      <td>1</td>\n",
       "    </tr>\n",
       "  </tbody>\n",
       "</table>\n",
       "<p>4365 rows × 6 columns</p>\n",
       "</div>"
      ],
      "text/plain": [
       "      fluctuation  ticker reception_date registration_date  check_contract  \\\n",
       "0           29.60  264660     2019-08-20        2019-08-20               1   \n",
       "1            1.50  241790     2019-08-20        2019-08-20               1   \n",
       "2            4.03  214450     2019-08-20        2019-08-20               0   \n",
       "3            0.00   17940     2019-08-21        2019-08-21               1   \n",
       "4            3.78  143540     2019-08-21        2019-08-21               1   \n",
       "...           ...     ...            ...               ...             ...   \n",
       "4360        -1.62   78000     2022-08-18        2022-08-18               1   \n",
       "4361         0.00   32860     2022-08-18        2022-08-18               1   \n",
       "4362        -0.68  100090     2022-08-19        2022-08-19               1   \n",
       "4363        -0.49   68270     2022-08-19        2022-08-19               1   \n",
       "4364         1.22   86980     2022-08-19        2022-08-19               1   \n",
       "\n",
       "      new_fluctuation  \n",
       "0                   1  \n",
       "1                   1  \n",
       "2                   1  \n",
       "3                   1  \n",
       "4                   1  \n",
       "...               ...  \n",
       "4360                0  \n",
       "4361                1  \n",
       "4362                0  \n",
       "4363                0  \n",
       "4364                1  \n",
       "\n",
       "[4365 rows x 6 columns]"
      ]
     },
     "execution_count": 13,
     "metadata": {},
     "output_type": "execute_result"
    }
   ],
   "source": [
    "new_df = df.astype({'new_fluctuation' : int})\n",
    "new_df"
   ]
  },
  {
   "cell_type": "code",
   "execution_count": 14,
   "id": "45752dc1",
   "metadata": {},
   "outputs": [
    {
     "name": "stdout",
     "output_type": "stream",
     "text": [
      "<class 'pandas.core.frame.DataFrame'>\n",
      "RangeIndex: 4365 entries, 0 to 4364\n",
      "Data columns (total 6 columns):\n",
      " #   Column             Non-Null Count  Dtype  \n",
      "---  ------             --------------  -----  \n",
      " 0   fluctuation        4365 non-null   float64\n",
      " 1   ticker             4365 non-null   int64  \n",
      " 2   reception_date     4365 non-null   object \n",
      " 3   registration_date  4365 non-null   object \n",
      " 4   check_contract     4365 non-null   int64  \n",
      " 5   new_fluctuation    4365 non-null   int32  \n",
      "dtypes: float64(1), int32(1), int64(2), object(2)\n",
      "memory usage: 187.7+ KB\n"
     ]
    }
   ],
   "source": [
    "new_df.info()"
   ]
  },
  {
   "cell_type": "code",
   "execution_count": 17,
   "id": "cfbdf139",
   "metadata": {},
   "outputs": [
    {
     "name": "stdout",
     "output_type": "stream",
     "text": [
      "<class 'pandas.core.frame.DataFrame'>\n",
      "RangeIndex: 4365 entries, 0 to 4364\n",
      "Data columns (total 6 columns):\n",
      " #   Column             Non-Null Count  Dtype  \n",
      "---  ------             --------------  -----  \n",
      " 0   fluctuation        4365 non-null   float64\n",
      " 1   ticker             4365 non-null   int64  \n",
      " 2   reception_date     4365 non-null   object \n",
      " 3   registration_date  4365 non-null   object \n",
      " 4   check_contract     4365 non-null   int64  \n",
      " 5   new_fluctuation    4365 non-null   int64  \n",
      "dtypes: float64(1), int64(3), object(2)\n",
      "memory usage: 204.7+ KB\n"
     ]
    }
   ],
   "source": [
    "## new_fluctuation 데이터 타입 float -> int64 로 변경\n",
    "\n",
    "new_df = df.astype({'new_fluctuation' : 'int64'})\n",
    "new_df.info()"
   ]
  },
  {
   "cell_type": "code",
   "execution_count": 18,
   "id": "f42b7d02",
   "metadata": {},
   "outputs": [
    {
     "name": "stdout",
     "output_type": "stream",
     "text": [
      "<class 'pandas.core.frame.DataFrame'>\n",
      "RangeIndex: 4365 entries, 0 to 4364\n",
      "Data columns (total 6 columns):\n",
      " #   Column             Non-Null Count  Dtype  \n",
      "---  ------             --------------  -----  \n",
      " 0   fluctuation        4365 non-null   float64\n",
      " 1   ticker             4365 non-null   int64  \n",
      " 2   reception_date     4365 non-null   object \n",
      " 3   registration_date  4365 non-null   object \n",
      " 4   check_contract     4365 non-null   int64  \n",
      " 5   new_fluctuation    4365 non-null   int64  \n",
      "dtypes: float64(1), int64(3), object(2)\n",
      "memory usage: 204.7+ KB\n"
     ]
    }
   ],
   "source": [
    "new_df.info()"
   ]
  },
  {
   "cell_type": "code",
   "execution_count": 19,
   "id": "9e79747d",
   "metadata": {},
   "outputs": [
    {
     "data": {
      "text/html": [
       "<div>\n",
       "<style scoped>\n",
       "    .dataframe tbody tr th:only-of-type {\n",
       "        vertical-align: middle;\n",
       "    }\n",
       "\n",
       "    .dataframe tbody tr th {\n",
       "        vertical-align: top;\n",
       "    }\n",
       "\n",
       "    .dataframe thead th {\n",
       "        text-align: right;\n",
       "    }\n",
       "</style>\n",
       "<table border=\"1\" class=\"dataframe\">\n",
       "  <thead>\n",
       "    <tr style=\"text-align: right;\">\n",
       "      <th></th>\n",
       "      <th>fluctuation</th>\n",
       "      <th>ticker</th>\n",
       "      <th>reception_date</th>\n",
       "      <th>registration_date</th>\n",
       "      <th>check_contract</th>\n",
       "      <th>new_fluctuation</th>\n",
       "    </tr>\n",
       "  </thead>\n",
       "  <tbody>\n",
       "    <tr>\n",
       "      <th>0</th>\n",
       "      <td>29.60</td>\n",
       "      <td>264660</td>\n",
       "      <td>2019-08-20</td>\n",
       "      <td>2019-08-20</td>\n",
       "      <td>1</td>\n",
       "      <td>1</td>\n",
       "    </tr>\n",
       "    <tr>\n",
       "      <th>1</th>\n",
       "      <td>1.50</td>\n",
       "      <td>241790</td>\n",
       "      <td>2019-08-20</td>\n",
       "      <td>2019-08-20</td>\n",
       "      <td>1</td>\n",
       "      <td>1</td>\n",
       "    </tr>\n",
       "    <tr>\n",
       "      <th>2</th>\n",
       "      <td>4.03</td>\n",
       "      <td>214450</td>\n",
       "      <td>2019-08-20</td>\n",
       "      <td>2019-08-20</td>\n",
       "      <td>0</td>\n",
       "      <td>1</td>\n",
       "    </tr>\n",
       "    <tr>\n",
       "      <th>3</th>\n",
       "      <td>0.00</td>\n",
       "      <td>17940</td>\n",
       "      <td>2019-08-21</td>\n",
       "      <td>2019-08-21</td>\n",
       "      <td>1</td>\n",
       "      <td>1</td>\n",
       "    </tr>\n",
       "    <tr>\n",
       "      <th>4</th>\n",
       "      <td>3.78</td>\n",
       "      <td>143540</td>\n",
       "      <td>2019-08-21</td>\n",
       "      <td>2019-08-21</td>\n",
       "      <td>1</td>\n",
       "      <td>1</td>\n",
       "    </tr>\n",
       "    <tr>\n",
       "      <th>...</th>\n",
       "      <td>...</td>\n",
       "      <td>...</td>\n",
       "      <td>...</td>\n",
       "      <td>...</td>\n",
       "      <td>...</td>\n",
       "      <td>...</td>\n",
       "    </tr>\n",
       "    <tr>\n",
       "      <th>4360</th>\n",
       "      <td>-1.62</td>\n",
       "      <td>78000</td>\n",
       "      <td>2022-08-18</td>\n",
       "      <td>2022-08-18</td>\n",
       "      <td>1</td>\n",
       "      <td>0</td>\n",
       "    </tr>\n",
       "    <tr>\n",
       "      <th>4361</th>\n",
       "      <td>0.00</td>\n",
       "      <td>32860</td>\n",
       "      <td>2022-08-18</td>\n",
       "      <td>2022-08-18</td>\n",
       "      <td>1</td>\n",
       "      <td>1</td>\n",
       "    </tr>\n",
       "    <tr>\n",
       "      <th>4362</th>\n",
       "      <td>-0.68</td>\n",
       "      <td>100090</td>\n",
       "      <td>2022-08-19</td>\n",
       "      <td>2022-08-19</td>\n",
       "      <td>1</td>\n",
       "      <td>0</td>\n",
       "    </tr>\n",
       "    <tr>\n",
       "      <th>4363</th>\n",
       "      <td>-0.49</td>\n",
       "      <td>68270</td>\n",
       "      <td>2022-08-19</td>\n",
       "      <td>2022-08-19</td>\n",
       "      <td>1</td>\n",
       "      <td>0</td>\n",
       "    </tr>\n",
       "    <tr>\n",
       "      <th>4364</th>\n",
       "      <td>1.22</td>\n",
       "      <td>86980</td>\n",
       "      <td>2022-08-19</td>\n",
       "      <td>2022-08-19</td>\n",
       "      <td>1</td>\n",
       "      <td>1</td>\n",
       "    </tr>\n",
       "  </tbody>\n",
       "</table>\n",
       "<p>4365 rows × 6 columns</p>\n",
       "</div>"
      ],
      "text/plain": [
       "      fluctuation  ticker reception_date registration_date  check_contract  \\\n",
       "0           29.60  264660     2019-08-20        2019-08-20               1   \n",
       "1            1.50  241790     2019-08-20        2019-08-20               1   \n",
       "2            4.03  214450     2019-08-20        2019-08-20               0   \n",
       "3            0.00   17940     2019-08-21        2019-08-21               1   \n",
       "4            3.78  143540     2019-08-21        2019-08-21               1   \n",
       "...           ...     ...            ...               ...             ...   \n",
       "4360        -1.62   78000     2022-08-18        2022-08-18               1   \n",
       "4361         0.00   32860     2022-08-18        2022-08-18               1   \n",
       "4362        -0.68  100090     2022-08-19        2022-08-19               1   \n",
       "4363        -0.49   68270     2022-08-19        2022-08-19               1   \n",
       "4364         1.22   86980     2022-08-19        2022-08-19               1   \n",
       "\n",
       "      new_fluctuation  \n",
       "0                   1  \n",
       "1                   1  \n",
       "2                   1  \n",
       "3                   1  \n",
       "4                   1  \n",
       "...               ...  \n",
       "4360                0  \n",
       "4361                1  \n",
       "4362                0  \n",
       "4363                0  \n",
       "4364                1  \n",
       "\n",
       "[4365 rows x 6 columns]"
      ]
     },
     "execution_count": 19,
     "metadata": {},
     "output_type": "execute_result"
    }
   ],
   "source": [
    "new_df"
   ]
  },
  {
   "cell_type": "code",
   "execution_count": 33,
   "id": "3c660a78",
   "metadata": {},
   "outputs": [],
   "source": [
    "##머신러닝 알고리즘 트레이닝을 할때, sklearn 패키지 같은 경우, 독립변수(x)를 2차원 배열로 넣어야 되나보다..\n",
    "## (학습할 독립변수가 여러개가 될 수 있으니 그런 듯)\n",
    "\n",
    "x = new_df[[\"check_contract\"]]\n",
    "y = new_df[\"new_fluctuation\"]"
   ]
  },
  {
   "cell_type": "code",
   "execution_count": 37,
   "id": "47821b4b",
   "metadata": {},
   "outputs": [],
   "source": [
    "## 학습세트 / 평가세트 분리하기\n",
    "\n",
    "from sklearn.model_selection import train_test_split\n",
    "x_train, x_test, y_train, y_test = train_test_split(x, y)"
   ]
  },
  {
   "cell_type": "code",
   "execution_count": 38,
   "id": "7207df94",
   "metadata": {},
   "outputs": [],
   "source": [
    "## 데이터 정규화(스케일링) 하기\n",
    "\n",
    "from sklearn.preprocessing import StandardScaler\n",
    "scaler = StandardScaler()\n",
    "x_train = scaler.fit_transform(x_train)\n",
    "x_test = scaler.transform(x_test)"
   ]
  },
  {
   "cell_type": "code",
   "execution_count": 39,
   "id": "dac726a6",
   "metadata": {},
   "outputs": [
    {
     "data": {
      "text/plain": [
       "LogisticRegression()"
      ]
     },
     "execution_count": 39,
     "metadata": {},
     "output_type": "execute_result"
    }
   ],
   "source": [
    "## 모델 생성 및 평가하기\n",
    "\n",
    "from sklearn.linear_model import LogisticRegression\n",
    "model = LogisticRegression()\n",
    "model.fit(x_train, y_train)"
   ]
  },
  {
   "cell_type": "code",
   "execution_count": 40,
   "id": "cfa749fe",
   "metadata": {},
   "outputs": [
    {
     "data": {
      "text/plain": [
       "0.6257256339749465"
      ]
     },
     "execution_count": 40,
     "metadata": {},
     "output_type": "execute_result"
    }
   ],
   "source": [
    "model.score(x_train, y_train)"
   ]
  },
  {
   "cell_type": "markdown",
   "id": "b012e8ec",
   "metadata": {},
   "source": [
    "#### 62 % 정도 맞춘다는 것을 알 수 있다."
   ]
  },
  {
   "cell_type": "code",
   "execution_count": 41,
   "id": "c80cdbb9",
   "metadata": {},
   "outputs": [
    {
     "data": {
      "text/plain": [
       "0.6291208791208791"
      ]
     },
     "execution_count": 41,
     "metadata": {},
     "output_type": "execute_result"
    }
   ],
   "source": [
    "model.score(x_test, y_test)"
   ]
  },
  {
   "cell_type": "markdown",
   "id": "9c7781df",
   "metadata": {},
   "source": [
    "#### 테스트 세트 또한 비슷하다 "
   ]
  },
  {
   "cell_type": "code",
   "execution_count": 42,
   "id": "f81b4b3e",
   "metadata": {},
   "outputs": [
    {
     "data": {
      "text/plain": [
       "array([[0.00684936]])"
      ]
     },
     "execution_count": 42,
     "metadata": {},
     "output_type": "execute_result"
    }
   ],
   "source": [
    "## 각 feature들의 계수(coefficients)를 확인해볼 차례다.\n",
    "## 어떤 feature가 생존에 큰 영향을 주는지 확인해볼 수 있으니까.\n",
    "## 근데 여기선 컬럼 하나로 비교하므로 필요 없다.\n",
    "\n",
    "model.coef_"
   ]
  },
  {
   "cell_type": "code",
   "execution_count": 67,
   "id": "9a3c3440",
   "metadata": {},
   "outputs": [],
   "source": [
    "import numpy as np\n",
    "One = np.array([1])\n",
    "Two = np.array([0])\n",
    "Three = np.array([1])\n",
    "sample_company = np.array([One, Two, Three])"
   ]
  },
  {
   "cell_type": "code",
   "execution_count": 68,
   "id": "43a9b3bc",
   "metadata": {},
   "outputs": [
    {
     "name": "stderr",
     "output_type": "stream",
     "text": [
      "C:\\Users\\user\\anaconda3\\lib\\site-packages\\sklearn\\base.py:450: UserWarning: X does not have valid feature names, but StandardScaler was fitted with feature names\n",
      "  warnings.warn(\n"
     ]
    }
   ],
   "source": [
    "sample_company = scaler.transform(sample_company)"
   ]
  },
  {
   "cell_type": "code",
   "execution_count": 69,
   "id": "f0130dd9",
   "metadata": {},
   "outputs": [
    {
     "data": {
      "text/plain": [
       "array([[0.37391908, 0.62608092],\n",
       "       [0.38156946, 0.61843054],\n",
       "       [0.37391908, 0.62608092]])"
      ]
     },
     "execution_count": 69,
     "metadata": {},
     "output_type": "execute_result"
    }
   ],
   "source": [
    "model.predict_proba(sample_company)"
   ]
  },
  {
   "cell_type": "markdown",
   "id": "8e98a91b",
   "metadata": {},
   "source": [
    "#### 예측도 해봤는데.. 이건 공부가 좀 더 필요할 듯 하다."
   ]
  },
  {
   "cell_type": "code",
   "execution_count": null,
   "id": "b24f5aa1",
   "metadata": {},
   "outputs": [],
   "source": []
  }
 ],
 "metadata": {
  "kernelspec": {
   "display_name": "Python 3 (ipykernel)",
   "language": "python",
   "name": "python3"
  },
  "language_info": {
   "codemirror_mode": {
    "name": "ipython",
    "version": 3
   },
   "file_extension": ".py",
   "mimetype": "text/x-python",
   "name": "python",
   "nbconvert_exporter": "python",
   "pygments_lexer": "ipython3",
   "version": "3.9.12"
  }
 },
 "nbformat": 4,
 "nbformat_minor": 5
}
